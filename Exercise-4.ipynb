{
 "cells": [
  {
   "cell_type": "markdown",
   "metadata": {},
   "source": [
    "Below is code with a link to a happy or sad dataset which contains 80 images, 40 happy and 40 sad. \n",
    "Create a convolutional neural network that trains to 100% accuracy on these images,  which cancels training upon hitting training accuracy of >.999\n",
    "\n",
    "Hint -- it will work best with 3 convolutional layers."
   ]
  },
  {
   "cell_type": "code",
   "execution_count": 1,
   "metadata": {},
   "outputs": [],
   "source": [
    "import tensorflow as tf\n",
    "import os\n",
    "import zipfile\n",
    "import urllib\n",
    "urllib.request.urlretrieve(\"https://storage.googleapis.com/laurencemoroney-blog.appspot.com/happy-or-sad.zip\",\n",
    "                           filename=\"./tmp/happy-or-sad.zip\")\n",
    "\n",
    "zip_ref = zipfile.ZipFile(\"./tmp/happy-or-sad.zip\", 'r')\n",
    "zip_ref.extractall(\"./tmp/h-or-s\")\n",
    "zip_ref.close()"
   ]
  },
  {
   "cell_type": "code",
   "execution_count": 2,
   "metadata": {},
   "outputs": [],
   "source": [
    "# GRADED FUNCTION: train_happy_sad_model\n",
    "def train_happy_sad_model():\n",
    "    # Please write your code only where you are indicated.\n",
    "    # please do not remove # model fitting inline comments.\n",
    "\n",
    "    DESIRED_ACCURACY = 0.999\n",
    "\n",
    "    class myCallback(tf.keras.callbacks.Callback):\n",
    "        def on_epoch_end(self, epoch, logs={}):\n",
    "            if(logs.get('acc')>DESIRED_ACCURACY):\n",
    "                print(\"\\nReached 99.9% accuracy so cancelling training!\")\n",
    "                self.model.stop_training = True\n",
    "\n",
    "    callbacks = myCallback()\n",
    "    \n",
    "    # This Code Block should Define and Compile the Model\n",
    "    model = tf.keras.models.Sequential([\n",
    "        tf.keras.layers.Conv2D(16, (3,3), activation='relu', input_shape=(150, 150, 3)),\n",
    "    tf.keras.layers.MaxPooling2D(2, 2),\n",
    "    # The second convolution\n",
    "    tf.keras.layers.Conv2D(32, (3,3), activation='relu'),\n",
    "    tf.keras.layers.MaxPooling2D(2,2),\n",
    "    # The third convolution\n",
    "    tf.keras.layers.Conv2D(64, (3,3), activation='relu'),\n",
    "    tf.keras.layers.MaxPooling2D(2,2),\n",
    "    # Flatten the results to feed into a DNN\n",
    "    tf.keras.layers.Flatten(),\n",
    "    # 512 neuron hidden layer\n",
    "    tf.keras.layers.Dense(512, activation='relu'),\n",
    "    # Only 1 output neuron. It will contain a value from 0-1 where 0 for 1 class ('horses') and 1 for the other ('humans')\n",
    "    tf.keras.layers.Dense(1, activation='sigmoid')\n",
    "    ])\n",
    "\n",
    "    from tensorflow.keras.optimizers import RMSprop\n",
    "    model.compile(loss='binary_crossentropy',\n",
    "              optimizer=RMSprop(lr=0.001),\n",
    "              metrics=['acc'])\n",
    "\n",
    "    # This code block should create an instance of an ImageDataGenerator called train_datagen \n",
    "    # And a train_generator by calling train_datagen.flow_from_directory\n",
    "\n",
    "    from tensorflow.keras.preprocessing.image import ImageDataGenerator\n",
    "    \n",
    "    train_datagen = ImageDataGenerator(rescale=1/255)\n",
    "\n",
    "    train_generator = train_datagen.flow_from_directory(\n",
    "        './tmp/h-or-s/',  \n",
    "        target_size=(150, 150),\n",
    "        batch_size=10,\n",
    "        # Since we use binary_crossentropy loss, we need binary labels\n",
    "        class_mode='binary')\n",
    "    \n",
    "    # Expected output: 'Found 80 images belonging to 2 classes'\n",
    "    \n",
    "    # This code block should call model.fit_generator and train for\n",
    "    # a number of epochs.\n",
    "    # model fitting\n",
    "    history = model.fit_generator(\n",
    "      train_generator,\n",
    "      steps_per_epoch=8,  \n",
    "      epochs=15,\n",
    "      verbose=1, callbacks=[callbacks])\n",
    "\n",
    "    # model fitting\n",
    "    return history.history['acc'][-1]"
   ]
  },
  {
   "cell_type": "code",
   "execution_count": 3,
   "metadata": {},
   "outputs": [
    {
     "name": "stdout",
     "output_type": "stream",
     "text": [
      "WARNING:tensorflow:From c:\\users\\lenovo\\appdata\\local\\programs\\python\\python36\\lib\\site-packages\\tensorflow_core\\python\\ops\\resource_variable_ops.py:1630: calling BaseResourceVariable.__init__ (from tensorflow.python.ops.resource_variable_ops) with constraint is deprecated and will be removed in a future version.\n",
      "Instructions for updating:\n",
      "If using Keras pass *_constraint arguments to layers.\n",
      "WARNING:tensorflow:From c:\\users\\lenovo\\appdata\\local\\programs\\python\\python36\\lib\\site-packages\\tensorflow_core\\python\\ops\\nn_impl.py:183: where (from tensorflow.python.ops.array_ops) is deprecated and will be removed in a future version.\n",
      "Instructions for updating:\n",
      "Use tf.where in 2.0, which has the same broadcast rule as np.where\n",
      "Found 80 images belonging to 2 classes.\n",
      "Epoch 1/15\n",
      "8/8 [==============================] - 3s 318ms/step - loss: 2.1298 - acc: 0.4750\n",
      "Epoch 2/15\n",
      "8/8 [==============================] - 2s 189ms/step - loss: 0.6335 - acc: 0.7000\n",
      "Epoch 3/15\n",
      "8/8 [==============================] - 2s 190ms/step - loss: 0.4882 - acc: 0.8000\n",
      "Epoch 4/15\n",
      "8/8 [==============================] - 2s 189ms/step - loss: 0.2495 - acc: 0.9625\n",
      "Epoch 5/15\n",
      "8/8 [==============================] - 2s 192ms/step - loss: 0.2707 - acc: 0.8750\n",
      "Epoch 6/15\n",
      "8/8 [==============================] - 2s 194ms/step - loss: 0.1702 - acc: 0.9500\n",
      "Epoch 7/15\n",
      "8/8 [==============================] - 2s 191ms/step - loss: 0.0943 - acc: 0.9750\n",
      "Epoch 8/15\n",
      "8/8 [==============================] - 2s 191ms/step - loss: 0.1213 - acc: 0.9375\n",
      "Epoch 9/15\n",
      "8/8 [==============================] - 2s 190ms/step - loss: 0.1459 - acc: 0.9250\n",
      "Epoch 10/15\n",
      "8/8 [==============================] - 2s 193ms/step - loss: 0.0744 - acc: 0.9750\n",
      "Epoch 11/15\n",
      "8/8 [==============================] - 2s 196ms/step - loss: 0.0627 - acc: 0.9625\n",
      "Epoch 12/15\n",
      "7/8 [=========================>....] - ETA: 0s - loss: 0.0221 - acc: 1.0000\n",
      "Reached 99.9% accuracy so cancelling training!\n",
      "8/8 [==============================] - 2s 195ms/step - loss: 0.0194 - acc: 1.0000\n"
     ]
    },
    {
     "data": {
      "text/plain": [
       "1.0"
      ]
     },
     "execution_count": 3,
     "metadata": {},
     "output_type": "execute_result"
    }
   ],
   "source": [
    "# The Expected output: \"Reached 99.9% accuracy so cancelling training!\"\"\n",
    "train_happy_sad_model()"
   ]
  }
 ],
 "metadata": {
  "kernelspec": {
   "display_name": "Python 3",
   "language": "python",
   "name": "python3"
  },
  "language_info": {
   "codemirror_mode": {
    "name": "ipython",
    "version": 3
   },
   "file_extension": ".py",
   "mimetype": "text/x-python",
   "name": "python",
   "nbconvert_exporter": "python",
   "pygments_lexer": "ipython3",
   "version": "3.6.2"
  }
 },
 "nbformat": 4,
 "nbformat_minor": 4
}
